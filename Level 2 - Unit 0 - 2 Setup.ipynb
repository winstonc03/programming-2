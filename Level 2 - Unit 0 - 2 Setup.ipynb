{
 "cells": [
  {
   "cell_type": "markdown",
   "metadata": {},
   "source": [
    "# Setting Up the Environment\n",
    "In this first notebook, you'll get introduced to a platform and develop some skills that will help you in the following semester.\n",
    "\n",
    "This document that you're in is called a **notebook**. It's where we'll spend time reflecting on what we've learned in the course. We'll spend some time and give some space to write in it.\n",
    "\n",
    "## 1. Introduction to Markdown\n",
    "Markdown is a scripting language that allows us to make rich-text (text with _different_ **emphasis**) using symbols. It helps cut down a lot of mouse clicks and makes formatting relatively easy.\n",
    "\n",
    "Do the markdown tutorial at [Markdown Tutorial](https://www.markdowntutorial.com/).\n",
    "\n",
    "Once you're done, markdown the following cell."
   ]
  },
  {
   "cell_type": "markdown",
   "metadata": {},
   "source": [
    "## Make this a heading level two.\n",
    "\n",
    "_Make this italicized._\n",
    "\n",
    "**Make this bold.**\n",
    "\n",
    "Create a table with 3 columns and one header row.\n",
    "\n",
    "|  tables | are  | cool  |\n",
    "|---|---|---|\n",
    "|1|2|3|\n",
    "\n"
   ]
  },
  {
   "cell_type": "markdown",
   "metadata": {},
   "source": [
    "### Exercise 1\n",
    "Insert an image here.\n",
    "![tyler1](https://i.redd.it/veex0dkr9v821.jpg)"
   ]
  },
  {
   "cell_type": "markdown",
   "metadata": {},
   "source": [
    "## 2. Create a Slack account\n",
    "While you're at it, download the [Slack](http://www.slack.com) app to your mobile device if you have one. You can also install it on your own machine if you've brought it to class.\n",
    "* If you have a Slack account, you'll receive the URL for the classroom Slack later on."
   ]
  },
  {
   "cell_type": "code",
   "execution_count": null,
   "metadata": {},
   "outputs": [],
   "source": []
  }
 ],
 "metadata": {
  "kernelspec": {
   "display_name": "Python 3",
   "language": "python",
   "name": "python3"
  },
  "language_info": {
   "codemirror_mode": {
    "name": "ipython",
    "version": 3
   },
   "file_extension": ".py",
   "mimetype": "text/x-python",
   "name": "python",
   "nbconvert_exporter": "python",
   "pygments_lexer": "ipython3",
   "version": "3.8.2"
  }
 },
 "nbformat": 4,
 "nbformat_minor": 4
}
