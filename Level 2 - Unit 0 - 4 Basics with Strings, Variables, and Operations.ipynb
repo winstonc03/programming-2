{
 "cells": [
  {
   "cell_type": "markdown",
   "metadata": {},
   "source": [
    "# Unit 0 - Basics\n",
    "## f-strings\n",
    "### What does f stand for?\n",
    "\n",
    "F stands for **fast**."
   ]
  },
  {
   "cell_type": "code",
   "execution_count": 1,
   "metadata": {},
   "outputs": [
    {
     "name": "stdout",
     "output_type": "stream",
     "text": [
      "This is an f-string!\n"
     ]
    }
   ],
   "source": [
    "print(f\"This is an f-string!\")"
   ]
  },
  {
   "cell_type": "markdown",
   "metadata": {},
   "source": [
    "## String Slices"
   ]
  },
  {
   "cell_type": "code",
   "execution_count": 22,
   "metadata": {},
   "outputs": [
    {
     "name": "stdout",
     "output_type": "stream",
     "text": [
      "Jan\n"
     ]
    }
   ],
   "source": [
    "month = \"January\"\n",
    "abbreviation = month[0:3]\n",
    "print(abbreviation)"
   ]
  },
  {
   "cell_type": "code",
   "execution_count": 23,
   "metadata": {},
   "outputs": [
    {
     "name": "stdout",
     "output_type": "stream",
     "text": [
      "Aug\n"
     ]
    }
   ],
   "source": [
    "month = \"August\"\n",
    "first_part = month[:3]\n",
    "print(first_part)"
   ]
  },
  {
   "cell_type": "code",
   "execution_count": 30,
   "metadata": {},
   "outputs": [
    {
     "name": "stdout",
     "output_type": "stream",
     "text": [
      "13579\n",
      "2468\n",
      "9\n"
     ]
    }
   ],
   "source": [
    "numbers = \"123456789\"\n",
    "\n",
    "#[start:stop:set]\n",
    "odd = numbers[::2]\n",
    "print(odd)\n",
    "\n",
    "even = numbers[1::2]\n",
    "print(even)\n",
    "\n",
    "last_num = numbers[-1]\n",
    "print(last_num)"
   ]
  },
  {
   "cell_type": "markdown",
   "metadata": {},
   "source": [
    "### What kind of brackets can you do operations in?\n",
    "\n",
    "We use {} or **braces** to do operations inside of f-strings.\n",
    "\n",
    "### What's an operation?\n",
    "An operation in this case is any mathmatical operation.  \n",
    "Example:\n",
    "\n",
    "#### Using the Math Module\n",
    "We can import the Math module to help us calculate things\n",
    "\n",
    "https://docs.python.org/3/library/math.html\n"
   ]
  },
  {
   "cell_type": "code",
   "execution_count": 3,
   "metadata": {},
   "outputs": [
    {
     "name": "stdout",
     "output_type": "stream",
     "text": [
      "yo i'm 17\n"
     ]
    }
   ],
   "source": [
    "age = 17\n",
    "print(f\"yo i'm {age}\")"
   ]
  },
  {
   "cell_type": "code",
   "execution_count": 4,
   "metadata": {},
   "outputs": [
    {
     "name": "stdout",
     "output_type": "stream",
     "text": [
      "2\n",
      "0.0\n",
      "The GCD of 10 and 688 is 2\n"
     ]
    }
   ],
   "source": [
    "print(1 + 1)\n",
    "\n",
    "import math\n",
    "print(math.sin(0))\n",
    "print(f\"The GCD of 10 and 688 is {math.gcd(10, 688)}\")"
   ]
  },
  {
   "cell_type": "markdown",
   "metadata": {},
   "source": [
    "## Escape Codes"
   ]
  },
  {
   "cell_type": "code",
   "execution_count": 13,
   "metadata": {},
   "outputs": [
    {
     "name": "stdout",
     "output_type": "stream",
     "text": [
      "One line.\n",
      "\n",
      "\n",
      "Second line.\n",
      "\n",
      "Item\tItem\tItem\n",
      "The boy said, \"Hello!\" \n"
     ]
    }
   ],
   "source": [
    "# \\n next line <--- escape sequence\n",
    "# print(\"One line.\")\n",
    "# print(\"Second line.\")\n",
    "\n",
    "print(\"One line.\\n\\n\\nSecond line.\")\n",
    "\n",
    "# \\t tab\n",
    "print(\"\\nItem\\tItem\\tItem\")\n",
    "\n",
    "# \\\" inserts a double quote if u need\n",
    "print(\"The boy said, \\\"Hello!\\\"\")"
   ]
  },
  {
   "cell_type": "markdown",
   "metadata": {},
   "source": [
    "## Variables"
   ]
  },
  {
   "cell_type": "code",
   "execution_count": 5,
   "metadata": {},
   "outputs": [],
   "source": [
    "#How do you properly name variables\n",
    "\n",
    "# should start with lowercase letter\n",
    "# use _ if you need a space in variable (eg. winston_chieng)\n",
    "message = \"Your time is up.\"\n",
    "\n",
    "date_of_birth = \"January 24\"   # yes\n",
    "dateOfBirth = \"January 24\"     # only in java\n",
    "dob = \"January 24\" # be more descriptive\n",
    "\n",
    "# constants should be in ALL CAPS\n",
    "SCREEN_WIDTH = 1024\n",
    "SCREEN_HEIGHT = 768\n",
    "\n",
    "# you can use numbers in names, but don't start with number\n",
    "number_of_2s = \"5\""
   ]
  },
  {
   "cell_type": "markdown",
   "metadata": {},
   "source": [
    "## Reassignment"
   ]
  },
  {
   "cell_type": "code",
   "execution_count": null,
   "metadata": {},
   "outputs": [],
   "source": [
    "bruces_age = 5\n",
    "print(bruces_age)\n",
    "bruces_age = 7\n",
    "print(bruces_age)"
   ]
  },
  {
   "cell_type": "code",
   "execution_count": 15,
   "metadata": {},
   "outputs": [
    {
     "name": "stdout",
     "output_type": "stream",
     "text": [
      "10\n"
     ]
    }
   ],
   "source": [
    "a = 5\n",
    "b = a\n",
    "print (a + b)"
   ]
  },
  {
   "cell_type": "markdown",
   "metadata": {},
   "source": [
    "## Updating Variables"
   ]
  },
  {
   "cell_type": "code",
   "execution_count": 18,
   "metadata": {},
   "outputs": [
    {
     "name": "stdout",
     "output_type": "stream",
     "text": [
      "0\n",
      "1\n"
     ]
    }
   ],
   "source": [
    "counter = 0 \n",
    "print(counter)\n",
    "counter += 1\n",
    "print(counter)"
   ]
  },
  {
   "cell_type": "markdown",
   "metadata": {},
   "source": [
    "## Datatypes\n",
    "### What are some datatypes that we've seen?"
   ]
  },
  {
   "cell_type": "code",
   "execution_count": 39,
   "metadata": {},
   "outputs": [
    {
     "name": "stdout",
     "output_type": "stream",
     "text": [
      "Winston\n"
     ]
    }
   ],
   "source": [
    "# String\n",
    "my_name = 'Tim'\n",
    "# f-strings\n",
    "my_last_name = f'Ubial'\n",
    "\n",
    "# OTHER DATATYPES\n",
    "\n",
    "12              # number -> integer\n",
    "12.0            # number -> float\n",
    "True            # boolean\n",
    "False\n",
    "[1, 2, 3, 4]    # list\n",
    "[\"1\", \"2\"]\n",
    "{\"name\": \"Tim\"} # dictionary\n",
    "\n",
    "student = {\n",
    "    \"name\": \"Winston\",\n",
    "    \"student number\": 618005\n",
    "}\n",
    "print (student[\"name\"])"
   ]
  },
  {
   "cell_type": "markdown",
   "metadata": {},
   "source": [
    "### Casting\n",
    "What do we do to force Python to look at a string like it's a number?"
   ]
  },
  {
   "cell_type": "code",
   "execution_count": 47,
   "metadata": {},
   "outputs": [
    {
     "name": "stdout",
     "output_type": "stream",
     "text": [
      "21\n"
     ]
    },
    {
     "data": {
      "text/plain": [
       "str"
      ]
     },
     "execution_count": 47,
     "metadata": {},
     "output_type": "execute_result"
    }
   ],
   "source": [
    "age = \"16\"\n",
    "# add 5 to the age, set age as a temporary int\n",
    "new_age = int(age) + 5\n",
    "\n",
    "print(new_age)\n",
    "type(age)"
   ]
  },
  {
   "cell_type": "markdown",
   "metadata": {},
   "source": [
    "## Statements and Expressions\n",
    "\n",
    "Statement is an instruction that Python can execute.  \n",
    ">Assignment (when we assign a value to a variable) is\n",
    "a **statement**\n",
    "\n",
    ">`date_of_birth = \"January 22\"`\n",
    "\n",
    "An **expression** is a statement that **_must be evaluated_**.\n",
    ">`date_of_birth_and_year = date_of_birth + \" 2020\"`"
   ]
  },
  {
   "cell_type": "markdown",
   "metadata": {},
   "source": [
    "# Order of Operations\n",
    "\n",
    "#### BEDMAS\n",
    "\n",
    "From left-right."
   ]
  },
  {
   "cell_type": "code",
   "execution_count": 52,
   "metadata": {},
   "outputs": [
    {
     "name": "stdout",
     "output_type": "stream",
     "text": [
      "8\n",
      "1.75\n",
      "1\n",
      "2\n"
     ]
    }
   ],
   "source": [
    "# Exponents **\n",
    "cubed = 2 ** 3\n",
    "print(cubed)\n",
    "\n",
    "# Floor division // gives the result in an int -- rounds down\n",
    "division_result = 7/4\n",
    "print(division_result)\n",
    "\n",
    "division_result = 7//4\n",
    "print(division_result)\n",
    "\n",
    "# find the remainder -- Module (can use to find if something is divisible)\n",
    "remainder = 5 % 3\n",
    "print(remainder)\n"
   ]
  },
  {
   "cell_type": "markdown",
   "metadata": {},
   "source": [
    "## Input\n",
    "### How do we get input from a user?"
   ]
  },
  {
   "cell_type": "code",
   "execution_count": null,
   "metadata": {},
   "outputs": [],
   "source": [
    "# Use the input() function\n",
    "your_name = input(f'What\\'s your name? ')\n",
    "print(your_name)"
   ]
  },
  {
   "cell_type": "markdown",
   "metadata": {},
   "source": [
    "---\n",
    "# Assignment\n",
    "For each of these programs, be sure to put in the header _(Title, Author, Date)_.\n",
    "## Create a program that asks the user for a temperature in Fahrenheit, and then prints the temperature in Celsius.\n",
    "The formula for conversion is:  \n",
    "`C = (F − 32) × 5/9 `"
   ]
  },
  {
   "cell_type": "code",
   "execution_count": 14,
   "metadata": {},
   "outputs": [
    {
     "name": "stdin",
     "output_type": "stream",
     "text": [
      "Please give the temperature in Fahrenheit to convert:  29\n"
     ]
    },
    {
     "name": "stdout",
     "output_type": "stream",
     "text": [
      "29 deg F is -1.6666666666666667 deg C.\n"
     ]
    }
   ],
   "source": [
    "# Fahrenheit to Celsius\n",
    "# Author: Ubial\n",
    "# Date: 7 February\n",
    "\n",
    "# Get temperature from user in Celsius\n",
    "temp_in_fahrenheit = input(f'Please give the temperature in Fahrenheit to convert: ')\n",
    "\n",
    "# Make the calculation\n",
    "temp_in_celsius = (float(temp_in_fahrenheit) - 32) * 5 / 9\n",
    "\n",
    "# Tell the user the conversion\n",
    "print(f'{temp_in_fahrenheit} deg F is {temp_in_celsius} deg C.')"
   ]
  },
  {
   "cell_type": "markdown",
   "metadata": {},
   "source": [
    "## Create a program that takes the radius of a circle and calculates its area.\n",
    "The formula to calculate the area is:  \n",
    "`A = pi * r ^ 2`  \n",
    "Note:  \n",
    "In order to use pi, **import the math module**.  \n",
    "It has the constant, pi, that you can use.\n",
    "You can use it by using `math.pi`."
   ]
  },
  {
   "cell_type": "code",
   "execution_count": 1,
   "metadata": {},
   "outputs": [
    {
     "name": "stdout",
     "output_type": "stream",
     "text": [
      "Enter the radius: 20\n",
      "The area of the circle is 1256.6370614359173 square units.\n"
     ]
    }
   ],
   "source": [
    "# Calculate Area of Circle\n",
    "# Author: Ubial\n",
    "# Date: 7 Feb 2019\n",
    "\n",
    "import math\n",
    "\n",
    "# Get the radius from user\n",
    "radius = input(f'Enter the radius: ')\n",
    "area = math.pi * float(radius) ** 2\n",
    "\n",
    "# Print the result\n",
    "print(f'The area of the circle is {area} square units.')"
   ]
  },
  {
   "cell_type": "markdown",
   "metadata": {},
   "source": [
    "## Create a program that tells a three jokes.\n",
    "Each of the jokes needs to interact with the user."
   ]
  },
  {
   "cell_type": "code",
   "execution_count": null,
   "metadata": {},
   "outputs": [],
   "source": [
    "# Steve Comedy Bot\n",
    "# Author: Winston Chieng\n",
    "# Date: 26 November 2020\n",
    "\n",
    "print(\"Hello, I'm steve I'm a joke bot haha \\n\")\n",
    "\n",
    "joke1 = input('why did the chicken cross the road')\n"
   ]
  },
  {
   "cell_type": "code",
   "execution_count": 40,
   "metadata": {},
   "outputs": [
    {
     "name": "stdout",
     "output_type": "stream",
     "text": [
      "How many hours is it currently?\n",
      "23\n",
      "How many hours until the alarm?\n",
      "29\n",
      "The clock will read 4:00 when your time goes off\n",
      "or 4:00am\n"
     ]
    }
   ],
   "source": [
    "## Translating Time and Alarms\n",
    "\n",
    "time = int(input(\"How many hours is it currently?\\n\").replace(\":00\",\"\"))\n",
    "\n",
    "alarm = int(input(\"How many hours until the alarm?\\n\").replace(\":00\",\"\"))\n",
    "\n",
    "final_time = (time + alarm)%24\n",
    "\n",
    "print(f\"The clock will read {final_time}:00 when your time goes off\")\n",
    "\n",
    "if final_time >= 12:\n",
    "    final_time // 12\n",
    "    print(f\"or {final_time}:00pm\")\n",
    "else:\n",
    "    print(f\"or {final_time}:00am\")"
   ]
  },
  {
   "cell_type": "code",
   "execution_count": 41,
   "metadata": {},
   "outputs": [
    {
     "name": "stdout",
     "output_type": "stream",
     "text": [
      "Give me a sentence.\n",
      "pp poo poo\n",
      "pp\n",
      "poo\n",
      "poo\n"
     ]
    }
   ],
   "source": [
    "sentence = input(\"Give me a sentence.\\n\")\n",
    "\n",
    "words = sentence.split(\" \")\n",
    "\n",
    "for x in range(len(words)):\n",
    "    print(words[x])\n",
    "    "
   ]
  },
  {
   "cell_type": "code",
   "execution_count": 31,
   "metadata": {},
   "outputs": [
    {
     "name": "stdout",
     "output_type": "stream",
     "text": [
      "how many years?\n",
      "5\n",
      "15506.711259456786\n"
     ]
    }
   ],
   "source": [
    "years = int(input(\"how many years?\\n\"))\n",
    "\n",
    "print(15000*(1+0.08/12)**years)"
   ]
  },
  {
   "cell_type": "code",
   "execution_count": null,
   "metadata": {},
   "outputs": [],
   "source": []
  },
  {
   "cell_type": "code",
   "execution_count": null,
   "metadata": {},
   "outputs": [],
   "source": []
  }
 ],
 "metadata": {
  "kernelspec": {
   "display_name": "Python 3",
   "language": "python",
   "name": "python3"
  },
  "language_info": {
   "codemirror_mode": {
    "name": "ipython",
    "version": 3
   },
   "file_extension": ".py",
   "mimetype": "text/x-python",
   "name": "python",
   "nbconvert_exporter": "python",
   "pygments_lexer": "ipython3",
   "version": "3.8.2"
  }
 },
 "nbformat": 4,
 "nbformat_minor": 4
}
