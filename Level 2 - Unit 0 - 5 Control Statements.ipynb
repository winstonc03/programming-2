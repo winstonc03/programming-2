{
 "cells": [
  {
   "cell_type": "markdown",
   "metadata": {},
   "source": [
    "# Control Statements\n",
    "\n",
    "![Hello!](https://media.giphy.com/media/ASd0Ukj0y3qMM/giphy.gif)"
   ]
  },
  {
   "cell_type": "markdown",
   "metadata": {},
   "source": [
    "# Skills\n",
    "* understand if statements\n",
    "* understand why we use elif instead of else in some cases"
   ]
  },
  {
   "cell_type": "markdown",
   "metadata": {},
   "source": [
    "## `if` statements\n",
    "We can branch code using control statements.  \n",
    "We can do that using `if` statements.\n",
    "\n",
    "![Branching from https://programarcadegames.com](http://programarcadegames.com/chapters/03_if_statements/flowchart1_thumb.png)"
   ]
  },
  {
   "cell_type": "code",
   "execution_count": 2,
   "metadata": {
    "tags": []
   },
   "outputs": [
    {
     "name": "stdin",
     "output_type": "stream",
     "text": [
      "First Value:  90\n",
      "Second Value:  90\n"
     ]
    },
    {
     "name": "stdout",
     "output_type": "stream",
     "text": [
      "Done\n"
     ]
    }
   ],
   "source": [
    "# ask the user for two values:\n",
    "# floats are decimal numbers\n",
    "# cast numbers as floats or ints\n",
    "a = float(input('First Value: '))\n",
    "b = float(input('Second Value: '))\n",
    "\n",
    "if a < b:\n",
    "    print(f'a is less than b')\n",
    "if b < a:\n",
    "    print(f'b is less than a')\n",
    "print(f'Done')"
   ]
  },
  {
   "cell_type": "markdown",
   "metadata": {},
   "source": [
    "## `elif` and `else` "
   ]
  },
  {
   "cell_type": "code",
   "execution_count": null,
   "metadata": {},
   "outputs": [],
   "source": [
    "# get input from user\n",
    "x = float(input('Enter a number: '))\n",
    "\n",
    "if x > 100:\n",
    "    print(f'x is greater than 100')\n",
    "elif x > 50:\n",
    "    print(f'x is greater than 50')\n",
    "elif x > 20:\n",
    "    print(f'x is greater than 20')\n",
    "else:\n",
    "    print(f'x is something')"
   ]
  },
  {
   "cell_type": "markdown",
   "metadata": {},
   "source": [
    "## Booleans\n",
    "\n",
    "**Booleans** are a _**datatype**_.  \n",
    "They are either `True` or `False` in Python.\n",
    "\n",
    "Note:  \n",
    "Know the distinction between `'True'` and `True`  \n",
    "and equally `'False'` and `False`"
   ]
  },
  {
   "cell_type": "markdown",
   "metadata": {},
   "source": [
    "### _Aside: Checking Data Types_\n",
    "\n",
    "If you want to check the type of data, use, the function `type()`."
   ]
  },
  {
   "cell_type": "code",
   "execution_count": 6,
   "metadata": {},
   "outputs": [
    {
     "data": {
      "text/plain": [
       "bool"
      ]
     },
     "execution_count": 6,
     "metadata": {},
     "output_type": "execute_result"
    }
   ],
   "source": [
    "type(True)"
   ]
  },
  {
   "cell_type": "code",
   "execution_count": 7,
   "metadata": {},
   "outputs": [
    {
     "name": "stdout",
     "output_type": "stream",
     "text": [
      "Something.\n"
     ]
    }
   ],
   "source": [
    "# gotchas -> if statements\n",
    "\n",
    "if \"Hello\":\n",
    "    print(\"Something.\")"
   ]
  },
  {
   "cell_type": "markdown",
   "metadata": {},
   "source": [
    "In Python anything that is not:\n",
    "* 0\n",
    "* None\n",
    "* False\n",
    "\n",
    "is __True__"
   ]
  },
  {
   "cell_type": "markdown",
   "metadata": {},
   "source": [
    "# Boolean Expressions\n",
    "\n",
    "Boolean expressions are operations that evaluate to booleans."
   ]
  },
  {
   "cell_type": "code",
   "execution_count": 8,
   "metadata": {},
   "outputs": [
    {
     "data": {
      "text/plain": [
       "True"
      ]
     },
     "execution_count": 8,
     "metadata": {},
     "output_type": "execute_result"
    }
   ],
   "source": [
    "True == True"
   ]
  },
  {
   "cell_type": "markdown",
   "metadata": {},
   "source": [
    "## Boolean Variables\n",
    "\n",
    "Variables can be booleans as well."
   ]
  },
  {
   "cell_type": "code",
   "execution_count": 15,
   "metadata": {},
   "outputs": [
    {
     "name": "stdout",
     "output_type": "stream",
     "text": [
      "True\n"
     ]
    }
   ],
   "source": [
    "is_chad = False\n",
    "age = 18\n",
    "if age >= 17:\n",
    "    is_chad = True\n",
    "print(is_chad)"
   ]
  },
  {
   "cell_type": "markdown",
   "metadata": {},
   "source": [
    "## Boolean Operators\n",
    "\n",
    "### Using `not`\n",
    "`not` is a unary operator  \n",
    "You only need **one operand**."
   ]
  },
  {
   "cell_type": "code",
   "execution_count": 18,
   "metadata": {},
   "outputs": [
    {
     "name": "stdout",
     "output_type": "stream",
     "text": [
      "you're lame.\n"
     ]
    }
   ],
   "source": [
    "chad = False\n",
    "if not chad:\n",
    "    print(\"you're lame.\")"
   ]
  },
  {
   "cell_type": "code",
   "execution_count": null,
   "metadata": {},
   "outputs": [],
   "source": [
    "age = 15\n",
    "\n",
    "if age != 16:\n",
    "    print(\"You can't get your N yet.\")"
   ]
  },
  {
   "cell_type": "markdown",
   "metadata": {},
   "source": [
    "### Using `and` and `or`\n",
    "`and` and `or` are binary operators.  \n",
    "You need **two operands** to use them."
   ]
  },
  {
   "cell_type": "code",
   "execution_count": 27,
   "metadata": {},
   "outputs": [
    {
     "name": "stdout",
     "output_type": "stream",
     "text": [
      "You need weapons my guy\n"
     ]
    }
   ],
   "source": [
    "have_axe = True\n",
    "have_bow = False\n",
    "\n",
    "if have_axe or have_bow:\n",
    "    print(\"Go get 'em\")\n",
    "    \n",
    "else:\n",
    "    print(\"You need weapons my guy\")"
   ]
  },
  {
   "cell_type": "markdown",
   "metadata": {},
   "source": [
    "---\n",
    "# Practice Questions"
   ]
  },
  {
   "cell_type": "markdown",
   "metadata": {},
   "source": [
    "## 1. What's missing from this code?"
   ]
  },
  {
   "cell_type": "code",
   "execution_count": 31,
   "metadata": {},
   "outputs": [
    {
     "name": "stdin",
     "output_type": "stream",
     "text": [
      "Temperature:  70\n"
     ]
    },
    {
     "name": "stdout",
     "output_type": "stream",
     "text": [
      "It is not hot out.\n"
     ]
    }
   ],
   "source": [
    "temperature = int(input(f'Temperature: '))\n",
    "if temperature > 90:\n",
    "    print(f'It is hot outside.')\n",
    "else:\n",
    "    print(f'It is not hot out.')"
   ]
  },
  {
   "cell_type": "markdown",
   "metadata": {},
   "source": [
    "## 2. What do you think this next code will print out?\n",
    "**Before you run the code,** take your best guess as to what it will print out.  \n",
    "Put your guess here:  "
   ]
  },
  {
   "cell_type": "code",
   "execution_count": 28,
   "metadata": {},
   "outputs": [
    {
     "name": "stdout",
     "output_type": "stream",
     "text": [
      "x=5\n",
      "y=False\n",
      "z=True\n",
      "Buzz\n"
     ]
    }
   ],
   "source": [
    "x = 5\n",
    "y = x == 6  #False\n",
    "z = x == 5  #True\n",
    "print(f'x={x}')   \n",
    "print(f'y={y}')    \n",
    "print(f'z={z}')    \n",
    "if y:\n",
    "    print(f'Fizz') \n",
    "if z:\n",
    "    print(f'Buzz')"
   ]
  },
  {
   "cell_type": "markdown",
   "metadata": {},
   "source": [
    "## 3. What do you think this code will print out?\n",
    "Again, **take an educated guess before running the code.**  \n",
    "Put your answers in inline comments beside the line of code.  \n",
    "There's an example below.\n",
    "If you're guess isn't right, try and figure out why it outputs what it does."
   ]
  },
  {
   "cell_type": "code",
   "execution_count": 55,
   "metadata": {},
   "outputs": [
    {
     "name": "stdout",
     "output_type": "stream",
     "text": [
      "True\n",
      "False\n",
      "True\n",
      "True\n",
      "False\n",
      "False\n",
      "False\n",
      "True\n",
      "False\n"
     ]
    }
   ],
   "source": [
    "print(\"3\" == \"3\")      \n",
    "print(\" 3\" == \"3\")          \n",
    "print(3 < 4)                \n",
    "print(3 < 10)               \n",
    "print(\"4\" > \"60\")            \n",
    "print(\"3\" < \"20\")           \n",
    "print( (2 == 2) == \"True\" )\n",
    "print( (2 == 2) == True )   \n",
    "print(3 > int(\"3\"))              "
   ]
  },
  {
   "cell_type": "markdown",
   "metadata": {},
   "source": [
    "---\n",
    "# Exercise\n",
    "\n",
    "Create your own quiz with five or more questions. You can ask questions that require:\n",
    "1. a number as an answer (e.g., What is 1+1?)\n",
    "2. text (e.g. What is Harry Potter's last name?)\n",
    "3. a selection (Which of these choices are correct? A, B, or C?) \n",
    "\n",
    "If you have the user enter non-numeric answers, think and cover the different ways a user could enter a correct answer. For example, if the answer is “a”, would “A” also be acceptable? \n",
    "1. Let the user know if he or she gets the question correct. Print a message depending on the user's answer.\n",
    "2. You need to keep track of how many questions they get correct.\n",
    "3. At the end of the program print the percentage of questions the user gets right. \n",
    "\n"
   ]
  },
  {
   "cell_type": "code",
   "execution_count": null,
   "metadata": {},
   "outputs": [
    {
     "name": "stdout",
     "output_type": "stream",
     "text": [
      "Welcome! What's your name?\n",
      "winston\n",
      "Hey winston, I have a short quiz for you, Good Luck!\n",
      "Finish the sentence:  Who lives in a ___ under  the seaaa\n",
      "p\n",
      "The correct answer was 'pineapple' :( \n",
      "What's 15 times 12?\n",
      "ONE HUNDRED EIGHTY!!!\n",
      "onehundredeighty\n",
      "Correct!\n"
     ]
    }
   ],
   "source": [
    "# Quiz Game\n",
    "# Author: Winston\n",
    "# Date: December 4, 2020\n",
    "\n",
    "name = input(\"Welcome! What's your name?\\n\")\n",
    "score = 0\n",
    "\n",
    "print(f\"Hey {name}, I have a short quiz for you, Good Luck!\")\n",
    "\n",
    "q1 = input(\"Finish the sentence:  Who lives in a ___ under  the seaaa\\n\").lower().strip(\"!., -\") \n",
    "if q1 == \"pineapple\":\n",
    "    score += 1\n",
    "    print(\"Correct!\")\n",
    "else:\n",
    "    print(\"The correct answer was 'pineapple' :( \")\n",
    "\n",
    "q2 = input(\"What's 15 times 12?\\n\").lower().strip(\"!., -\").replace(\" \",\"\")\n",
    "if q2 == \"180\" or q2 == \"onehundredeighty\":\n",
    "    score += 1\n",
    "    print(\"Correct!\")\n",
    "else:\n",
    "    print(\"The correct answer was '180' :( \")\n",
    "\n",
    "q3 = input(\"Who is the main character in the 'Mario' Franchise?\\n\").lower().strip(\"!., -\") \n",
    "if q3 == \"mario\":\n",
    "    score += 1\n",
    "    print(\"Correct!\")\n",
    "else:\n",
    "    print(\"Cmonnnnnn :( \")\n",
    "\n",
    "q4 = input(\"True or False: Penguins can fly.\\n\").lower().strip(\"!., -\")\n",
    "if q4 == \"true\" or q4 == \"t\":\n",
    "    score += 1\n",
    "    print(\"Correct!\")\n",
    "else:\n",
    "    print(\"Nah penguins do be flying 0.o \")\n",
    "\n",
    "q5 = input(\"Last Question, did you like this quiz?\\n\").lower().strip(\"!., -\")\n",
    "if q5 == \"yes\":\n",
    "    score += 1\n",
    "    print(\"Awesome!\")\n",
    "else:\n",
    "    print(\"Aw :( \")\n",
    "\n",
    "percent = score/5 * 100\n",
    "\n",
    "if (score >= 3):\n",
    "    print(f\"That's all! Your final percentage was {percent}%, You're awesome {name}!\")\n",
    "else:\n",
    "    print(f\"That's all! Your final percentage was {percent}%, Nice try {name}!\")\n"
   ]
  },
  {
   "cell_type": "markdown",
   "metadata": {},
   "source": [
    "# Requirements\n",
    "* Has five or more questions \n",
    "* Give the user feedback per question \n",
    "* Keep track of correct answers\n",
    "* Give them their outcome at the end"
   ]
  },
  {
   "cell_type": "code",
   "execution_count": null,
   "metadata": {},
   "outputs": [],
   "source": []
  }
 ],
 "metadata": {
  "kernelspec": {
   "display_name": "Python 3",
   "language": "python",
   "name": "python3"
  },
  "language_info": {
   "codemirror_mode": {
    "name": "ipython",
    "version": 3
   },
   "file_extension": ".py",
   "mimetype": "text/x-python",
   "name": "python",
   "nbconvert_exporter": "python",
   "pygments_lexer": "ipython3",
   "version": "3.8.2"
  }
 },
 "nbformat": 4,
 "nbformat_minor": 4
}
